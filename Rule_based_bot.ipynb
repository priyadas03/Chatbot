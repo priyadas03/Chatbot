{
  "nbformat": 4,
  "nbformat_minor": 0,
  "metadata": {
    "colab": {
      "provenance": []
    },
    "kernelspec": {
      "name": "python3",
      "display_name": "Python 3"
    },
    "language_info": {
      "name": "python"
    }
  },
  "cells": [
    {
      "cell_type": "code",
      "execution_count": null,
      "metadata": {
        "id": "k_sRsQldD_P3"
      },
      "outputs": [],
      "source": [
        "import re\n",
        "import random"
      ]
    },
    {
      "cell_type": "markdown",
      "source": [
        "# random library:\n",
        "it basically allows us to choose one of the response.\n",
        "it generates random numbers\n",
        "it also all ows us to choose response from a set of responses present in a list at random\n",
        "# re library:\n",
        "re is by default the string hamd libarry that allows us to perform several strings like searching,subsetting a list or string matching etc\n",
        "\n"
      ],
      "metadata": {
        "id": "K80mHC1eKTKu"
      }
    },
    {
      "cell_type": "code",
      "source": [
        "class RuleBot:\n",
        "  ### potential Negative responses\n",
        "  negative_responses = (\"no\",\"nope\",\"nah\",\"not a chance\",\"sorry\")\n",
        "  ###Exit conversation Keywords\n",
        "  exit_commands = (\"quit\",\"pause\",\"exit\",\"goodbye\",\"bye\",\"later\")\n",
        "  ###Random starter question\n",
        "  random_question = (\n",
        "      \"Why are you here? \",\n",
        "      \"Are there many humnas like you? \",\n",
        "      \"What do you consume for sustenance? \",\n",
        "      \"Is there intelligent lift on this planet? \",\n",
        "      \"Does earth have a leader? \",\n",
        "      \"What planets have you visited? \",\n",
        "      \"What technology do you have on this planet? \"\n",
        "  )\n",
        "\n",
        " def __init__(self):\n",
        "    self.alienbabble =  {'describe_planet_intent': r'.*\\s*your planet.*',\n",
        "                         'answer_why_intent': r'why\\sare.*',\n",
        "                         'about_intellipat': r'*\\s*intellipaat'\n",
        "                         }\n",
        "\n",
        "    ## greet for negative responses\n",
        "\n",
        " def greet(self):\n",
        "      self.name= input(\"What is your name?\\n\")\n",
        "      will_help=input(\n",
        "          f\"Hi {self.name},I am Rule-Bot.Will you help me learn about your planet?\\n \")\n",
        "      if will_help in self.negative_responses:\n",
        "        print(\"Ok,have a nice day!\")\n",
        "        return\n",
        "      self.chat()\n",
        "\n",
        "      ## exit message for exit command responses\n",
        "\n",
        "   def make_exit(self,reply):\n",
        "      for command in self.exit_commands:\n",
        "        if reply==command:\n",
        "          print(\"Okay,have a nice day!\")\n",
        "          return True\n",
        "      ##chat with user\n",
        "   def chat(self):\n",
        "      reply = input(random.choice(self.random_questions)).lower()\n",
        "      while not self.make_exit(reply):\n",
        "        reply=input(self.match_reply(reply))\n",
        "\n",
        "   def match_reply(self,reply):\n",
        "      for key,value in self.alienbabble.items():\n",
        "        intent=key\n",
        "        regex_pattern=value\n",
        "        found_match=re.match(regex_pattern,reply)\n",
        "        if found_match and intent =='describe_planet_intent':\n",
        "          return self.describe_planet_intent()\n",
        "        elif found_match and intent =='answer_why_intent':\n",
        "          return self.answer_why_intent()\n",
        "        elif found_match and intent =='about_intellipat':\n",
        "          return self.about_intellipat()\n",
        "      if not found_match:\n",
        "        return self.no_match_intent()\n",
        "\n",
        "   def describe_planet_intent(self):\n",
        "      responses=(\"My planet is a utopia of diverse oraganisms and species.\\n\",\n",
        "                 \"I am from Opidipus, the capital of the Wayward Galaxies.\\n\")\n",
        "      return random.choice(responses)\n",
        "\n",
        "   def answer_why_intent(self):\n",
        "      responses=(\"I come in peace\\n\", \"I am here to collect data on your planet and its inhabitants.\\n\")\n",
        "      return random.choice(responses)\n",
        "\n",
        "  def about_intellipat(self):\n",
        "      responses=(\"Intellipaat is world's largest professioanl educational company\\n\", \"Intellipaat will make you learn concepts in the way never\",\n",
        "                 \"Intellipaat is where your career and skill grows\\n\")\n",
        "      return random.choice(responses)\n",
        "\n",
        "   def no_match_intent(self):\n",
        "      reponses=(\n",
        "          \"Please tell me more .\\n\",\"Tell me more! \\n\",\"Why do you say that? \\n \",\"I see. Can you elaborate?\\n\",\n",
        "          \"Interesting. Can you tell me more?\\n\", \"I see. How do you think?\\n\",\"Why? \\n\",\n",
        "          \"How do you think I feel when you say that?\\n\")\n",
        "      return random.choice(reponses)\n",
        "\n",
        "AlienBot = RuleBot()\n",
        "AlienBot.greet()\n",
        "\n",
        "\n",
        "\n",
        "\n"
      ],
      "metadata": {
        "colab": {
          "base_uri": "https://localhost:8080/",
          "height": 109
        },
        "id": "cb2ktl5jLHkS",
        "outputId": "0a4412da-68e2-403c-ea3a-0545c853d774"
      },
      "execution_count": null,
      "outputs": [
        {
          "output_type": "error",
          "ename": "IndentationError",
          "evalue": "unindent does not match any outer indentation level (<tokenize>, line 17)",
          "traceback": [
            "\u001b[0;36m  File \u001b[0;32m\"<tokenize>\"\u001b[0;36m, line \u001b[0;32m17\u001b[0m\n\u001b[0;31m    def __init__(self):\u001b[0m\n\u001b[0m    ^\u001b[0m\n\u001b[0;31mIndentationError\u001b[0m\u001b[0;31m:\u001b[0m unindent does not match any outer indentation level\n"
          ]
        }
      ]
    },
    {
      "cell_type": "markdown",
      "source": [],
      "metadata": {
        "id": "dAp3z7qYLMrn"
      }
    }
  ]
}